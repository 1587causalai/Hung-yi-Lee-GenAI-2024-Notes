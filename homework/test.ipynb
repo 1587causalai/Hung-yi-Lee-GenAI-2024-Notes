{
 "cells": [
  {
   "cell_type": "code",
   "id": "initial_id",
   "metadata": {
    "collapsed": true,
    "ExecuteTime": {
     "end_time": "2024-06-28T07:25:50.007879Z",
     "start_time": "2024-06-28T07:25:50.001622Z"
    }
   },
   "source": "1 + 1",
   "outputs": [
    {
     "data": {
      "text/plain": [
       "2"
      ]
     },
     "execution_count": 1,
     "metadata": {},
     "output_type": "execute_result"
    }
   ],
   "execution_count": 1
  },
  {
   "metadata": {
    "ExecuteTime": {
     "end_time": "2024-06-28T07:26:56.436813Z",
     "start_time": "2024-06-28T07:26:56.433725Z"
    }
   },
   "cell_type": "code",
   "source": "pwd",
   "id": "efe0b6a7704a5ddf",
   "outputs": [
    {
     "data": {
      "text/plain": [
       "'/tmp/ZitJhhd8ca'"
      ]
     },
     "execution_count": 3,
     "metadata": {},
     "output_type": "execute_result"
    }
   ],
   "execution_count": 3
  },
  {
   "metadata": {
    "ExecuteTime": {
     "end_time": "2024-06-28T07:26:57.788998Z",
     "start_time": "2024-06-28T07:26:57.163377Z"
    }
   },
   "cell_type": "code",
   "source": "ls /root",
   "id": "3f930b1aaddf8e54",
   "outputs": [
    {
     "name": "stdout",
     "output_type": "stream",
     "text": [
      "/bin/bash: warning: setlocale: LC_ALL: cannot change locale (en_US.UTF-8)\r\n",
      "\u001B[0m\u001B[01;34mPersonalized-LLM-Research-Assistent\u001B[0m/  \u001B[01;36minternlm2-chat-1_8b\u001B[0m@       \u001B[01;34mpycharm\u001B[0m/\r\n",
      "\u001B[01;34magent\u001B[0m/                                \u001B[01;34minternlm2-chat-1_8b-4bit\u001B[0m/  \u001B[01;34mremote_demo\u001B[0m/\r\n",
      "\u001B[01;34mdemo\u001B[0m/                                 \u001B[01;34mmath\u001B[0m/                      \u001B[01;34mroot\u001B[0m/\r\n",
      "\u001B[01;34mft\u001B[0m/                                   model_download.ipynb       \u001B[01;36mshare\u001B[0m@\r\n",
      "\u001B[01;34mft-math\u001B[0m/                              \u001B[01;34mmodels\u001B[0m/                    test.ipynb\r\n",
      "\u001B[01;34mft-ruozhiba\u001B[0m/                          \u001B[01;34mopencompass\u001B[0m/               tmp.py\r\n",
      "\u001B[01;34mgongtest\u001B[0m/                             pipeline.py                untitled.txt\r\n",
      "\u001B[01;34mgongtest-git\u001B[0m/                         pipeline_kv.py             \u001B[01;34mwork_dir\u001B[0m/\r\n",
      "\u001B[01;34mhuixiangdou\u001B[0m/                          pipeline_llava.py          \u001B[01;34mxtuner\u001B[0m/\r\n",
      "install.py                            pipeline_transformer.py    \u001B[01;34mxtuner0117\u001B[0m/\r\n"
     ]
    }
   ],
   "execution_count": 4
  },
  {
   "metadata": {
    "ExecuteTime": {
     "end_time": "2024-06-28T07:26:42.854505Z",
     "start_time": "2024-06-28T07:26:42.851897Z"
    }
   },
   "cell_type": "code",
   "source": "print(\"Hello World\")",
   "id": "b0fe32a03b0c77aa",
   "outputs": [
    {
     "name": "stdout",
     "output_type": "stream",
     "text": [
      "Hello World\n"
     ]
    }
   ],
   "execution_count": 2
  },
  {
   "metadata": {},
   "cell_type": "code",
   "outputs": [],
   "execution_count": null,
   "source": "",
   "id": "1fd0068366f5c44a"
  }
 ],
 "metadata": {
  "kernelspec": {
   "display_name": "demo",
   "language": "python",
   "name": "demo"
  },
  "language_info": {
   "codemirror_mode": {
    "name": "ipython",
    "version": 2
   },
   "file_extension": ".py",
   "mimetype": "text/x-python",
   "name": "python",
   "nbconvert_exporter": "python",
   "pygments_lexer": "ipython2",
   "version": "2.7.6"
  }
 },
 "nbformat": 4,
 "nbformat_minor": 5
}
